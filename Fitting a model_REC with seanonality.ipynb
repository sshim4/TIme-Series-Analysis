{
 "cells": [
  {
   "cell_type": "code",
   "execution_count": 48,
   "id": "d5cce146",
   "metadata": {},
   "outputs": [
    {
     "name": "stdout",
     "output_type": "stream",
     "text": [
      "Last updated  Tue Oct 18 17:40:20 2022"
     ]
    }
   ],
   "source": [
    "cat('Last updated ', date())"
   ]
  },
  {
   "cell_type": "code",
   "execution_count": 49,
   "id": "a1f428ac",
   "metadata": {
    "scrolled": true
   },
   "outputs": [
    {
     "data": {
      "text/plain": [
       "               _                           \n",
       "platform       x86_64-w64-mingw32          \n",
       "arch           x86_64                      \n",
       "os             mingw32                     \n",
       "system         x86_64, mingw32             \n",
       "status                                     \n",
       "major          4                           \n",
       "minor          1.3                         \n",
       "year           2022                        \n",
       "month          03                          \n",
       "day            10                          \n",
       "svn rev        81868                       \n",
       "language       R                           \n",
       "version.string R version 4.1.3 (2022-03-10)\n",
       "nickname       One Push-Up                 "
      ]
     },
     "metadata": {},
     "output_type": "display_data"
    }
   ],
   "source": [
    "R.version"
   ]
  },
  {
   "cell_type": "code",
   "execution_count": 50,
   "id": "92899f89",
   "metadata": {},
   "outputs": [],
   "source": [
    "setwd('C:/Users/shims/Desktop/TImeSeries')"
   ]
  },
  {
   "cell_type": "markdown",
   "id": "bb42f881",
   "metadata": {},
   "source": [
    "### Recruitment (number of new fish index)"
   ]
  },
  {
   "cell_type": "markdown",
   "id": "fb506df7",
   "metadata": {},
   "source": [
    "Recruitment (index of the number of new fish) for a period of 453\n",
    "months ranging over the years 1950‐1987. Recruitment is loosely defined as an indicator of new members of a\n",
    "population to the first life stage at which natural mortality stabilizes near adult levels."
   ]
  },
  {
   "cell_type": "code",
   "execution_count": 51,
   "id": "f26692b1",
   "metadata": {},
   "outputs": [],
   "source": [
    "# install.packages('astsa')"
   ]
  },
  {
   "cell_type": "code",
   "execution_count": 52,
   "id": "c2958488",
   "metadata": {},
   "outputs": [],
   "source": [
    "library(astsa)"
   ]
  },
  {
   "cell_type": "code",
   "execution_count": 53,
   "id": "70ea6df7",
   "metadata": {},
   "outputs": [],
   "source": [
    "data(rec)"
   ]
  },
  {
   "cell_type": "markdown",
   "id": "9493d831",
   "metadata": {},
   "source": [
    "For more information about the data, run the code ?rec"
   ]
  },
  {
   "cell_type": "code",
   "execution_count": 54,
   "id": "b4af7257",
   "metadata": {},
   "outputs": [],
   "source": [
    "# ?rec"
   ]
  },
  {
   "cell_type": "markdown",
   "id": "dbd8a965",
   "metadata": {},
   "source": [
    "#### Step1: Plot time-series"
   ]
  },
  {
   "cell_type": "markdown",
   "id": "8914afd9",
   "metadata": {},
   "source": [
    "First we draw the time series plot. We can inspect the data whether it has any pattern, unusual observation. This time series data, named _rec_, seems to be having seasonality. We perform 1st order differencing\n",
    "the data __diff1_rec__$=rec_t-rec_{t-1}$. The 1st difference of _rec_ data (diff1_rec) does not seems to be having\n",
    "seasonality or trend. Next step is to check if data is stationary."
   ]
  },
  {
   "cell_type": "code",
   "execution_count": 55,
   "id": "0ffb4a6c",
   "metadata": {
    "scrolled": true
   },
   "outputs": [
    {
     "data": {
      "text/html": [
       "<style>\n",
       ".list-inline {list-style: none; margin:0; padding: 0}\n",
       ".list-inline>li {display: inline-block}\n",
       ".list-inline>li:not(:last-child)::after {content: \"\\00b7\"; padding: 0 .5ex}\n",
       "</style>\n",
       "<ol class=list-inline><li>68.63</li><li>68.63</li><li>68.63</li><li>68.63</li><li>68.63</li><li>68.63</li><li>59.16</li><li>48.7</li><li>47.54</li><li>50.91</li></ol>\n"
      ],
      "text/latex": [
       "\\begin{enumerate*}\n",
       "\\item 68.63\n",
       "\\item 68.63\n",
       "\\item 68.63\n",
       "\\item 68.63\n",
       "\\item 68.63\n",
       "\\item 68.63\n",
       "\\item 59.16\n",
       "\\item 48.7\n",
       "\\item 47.54\n",
       "\\item 50.91\n",
       "\\end{enumerate*}\n"
      ],
      "text/markdown": [
       "1. 68.63\n",
       "2. 68.63\n",
       "3. 68.63\n",
       "4. 68.63\n",
       "5. 68.63\n",
       "6. 68.63\n",
       "7. 59.16\n",
       "8. 48.7\n",
       "9. 47.54\n",
       "10. 50.91\n",
       "\n",
       "\n"
      ],
      "text/plain": [
       " [1] 68.63 68.63 68.63 68.63 68.63 68.63 59.16 48.70 47.54 50.91"
      ]
     },
     "metadata": {},
     "output_type": "display_data"
    }
   ],
   "source": [
    "rec[1:10]"
   ]
  },
  {
   "cell_type": "code",
   "execution_count": 56,
   "id": "de028f6a",
   "metadata": {},
   "outputs": [
    {
     "data": {
      "image/png": "[encoded data removed]",
      "text/plain": [
       "Plot with title \"The 1st difference of rec data\""
      ]
     },
     "metadata": {
      "image/png": {
       "height": 300,
       "width": 600
      }
     },
     "output_type": "display_data"
    }
   ],
   "source": [
    "#Step1: Plot time-series\n",
    "\n",
    "diff1_rec=diff(rec,lag=1)\n",
    "\n",
    "par(mfrow=c(2,1))\n",
    "ts.plot(rec, col='blue',main=\"rec data\")\n",
    "ts.plot(diff1_rec, col='blue', main=\"The 1st difference of rec data\")"
   ]
  },
  {
   "cell_type": "markdown",
   "id": "e9b6fb99",
   "metadata": {},
   "source": [
    "#### Step2: Stationary check"
   ]
  },
  {
   "cell_type": "markdown",
   "id": "65a68f6a",
   "metadata": {},
   "source": [
    "Time series data must satisfy the stationarity to fit a timeseries model. The objective way to check stationary is  Dickey-Fuller test. ($H_0$: non-stationary, $H_1$:stationay). We perform the Dickey-Fuller test both rec and __diff1_rec__. \n",
    "We observe p-value=0.01<$\\alpha$=0.05, so we reject the null hypothesis. Thus, both _rec_ and _diff1_rec_ are stationary. The next step is that find the orders of a time series model.\n"
   ]
  },
  {
   "cell_type": "code",
   "execution_count": 57,
   "id": "228ccbdd",
   "metadata": {},
   "outputs": [],
   "source": [
    "library(tseries)"
   ]
  },
  {
   "cell_type": "code",
   "execution_count": 58,
   "id": "f2c0ca8a",
   "metadata": {},
   "outputs": [
    {
     "name": "stderr",
     "output_type": "stream",
     "text": [
      "Warning message in tseries::adf.test(rec, alternative = \"stationary\"):\n",
      "\"p-value smaller than printed p-value\"\n"
     ]
    },
    {
     "data": {
      "text/plain": [
       "\n",
       "\tAugmented Dickey-Fuller Test\n",
       "\n",
       "data:  rec\n",
       "Dickey-Fuller = -5.4298, Lag order = 7, p-value = 0.01\n",
       "alternative hypothesis: stationary\n"
      ]
     },
     "metadata": {},
     "output_type": "display_data"
    },
    {
     "name": "stderr",
     "output_type": "stream",
     "text": [
      "Warning message in tseries::adf.test(diff1_rec, alternative = \"stationary\"):\n",
      "\"p-value smaller than printed p-value\"\n"
     ]
    },
    {
     "data": {
      "text/plain": [
       "\n",
       "\tAugmented Dickey-Fuller Test\n",
       "\n",
       "data:  diff1_rec\n",
       "Dickey-Fuller = -9.7644, Lag order = 7, p-value = 0.01\n",
       "alternative hypothesis: stationary\n"
      ]
     },
     "metadata": {},
     "output_type": "display_data"
    }
   ],
   "source": [
    "tseries::adf.test(rec, alternative=\"stationary\")\n",
    "tseries::adf.test(diff1_rec, alternative=\"stationary\")"
   ]
  },
  {
   "cell_type": "markdown",
   "id": "bb7a4cc5",
   "metadata": {},
   "source": [
    "#### Step3: Draw ACF, PACF to get information about the order of model. "
   ]
  },
  {
   "cell_type": "markdown",
   "id": "47a814ac",
   "metadata": {},
   "source": [
    "_rec_ seems to be having AR(p) models since ACF: Decays zero exponentially, PACF: Cut off. Thus, we consider AR(p). However, this is a subjective way and may not be correct when a possible model is ARIMA. Thus, we use the R function to find an appropriate order for this time series data. "
   ]
  },
  {
   "cell_type": "code",
   "execution_count": 59,
   "id": "0adc9716",
   "metadata": {},
   "outputs": [
    {
     "data": {
      "image/png": "[encoded data removed]",
      "text/plain": [
       "Plot with title \"Series  rec\""
      ]
     },
     "metadata": {
      "image/png": {
       "height": 300,
       "width": 600
      }
     },
     "output_type": "display_data"
    }
   ],
   "source": [
    "options(repr.plot.width=10, repr.plot.height=5)\n",
    "par(mfrow=c(1,2))\n",
    "acf(rec)\n",
    "pacf(rec)"
   ]
  },
  {
   "cell_type": "markdown",
   "id": "b82504be",
   "metadata": {},
   "source": [
    "_diff1_rec_ also seems to be having AR(p) models since ACF: Decays zero exponentially, PACF: Cut off. Thus, we consider AR(p). Again, finding exact orders by ACF, PACF is not easy, and this may not be correct. So, we use the R function to find an appropriate order for this time series data."
   ]
  },
  {
   "cell_type": "code",
   "execution_count": 60,
   "id": "5426d781",
   "metadata": {},
   "outputs": [
    {
     "data": {
      "image/png": "[encoded data removed]",
      "text/plain": [
       "Plot with title \"Series  diff1_rec\""
      ]
     },
     "metadata": {
      "image/png": {
       "height": 300,
       "width": 600
      }
     },
     "output_type": "display_data"
    }
   ],
   "source": [
    "par(mfrow=c(1,2))\n",
    "acf(diff1_rec)\n",
    "pacf(diff1_rec)"
   ]
  },
  {
   "cell_type": "markdown",
   "id": "7138d001",
   "metadata": {},
   "source": [
    "#### Step4-1: Decide order of ARIMA"
   ]
  },
  {
   "cell_type": "markdown",
   "id": "5766d4a9",
   "metadata": {},
   "source": [
    "In R, auto.arima( ) suggests an appropriate order for the data.  The suggested model is  $ARIMA(p,d,q)(P,D,Q)_m= ARIMA(1,1,0)(0,0,2)_{12}$\n",
    "The first part (1,1,0) is non-seasonal part of the model. AR(1) with 1st order differencing. The second part (0,0,2) is the seasonal part of the model, and it is MA(2) with season period =12 because Recruitment may be affected by month of year. And we can see the data has some pattern in step 1 time-series plot. Thus, the auto.arima() might have suggested the seasonal part which cannot explained by non-seasonal ARIMA. \n",
    "Then the suggested model is \n",
    "\n",
    "$$(1-φ_1 B)(1-B)rec_t=(1+\\Theta_1 B^{12}+\\Theta_2 B^{24})\\epsilon_t $$ \n",
    "\n",
    "The estimated coefficients are  $\\phi=0.3843, \\Theta_1=0.0871, \\Theta_2=0.1473$.\n",
    "\n",
    "This model’s residual also satisfies white noise since p-value=0.1872>$\\alpha$=0.05\n",
    "\n",
    "The first output is by auto.arima function. \n"
   ]
  },
  {
   "cell_type": "code",
   "execution_count": 61,
   "id": "44a2485d",
   "metadata": {},
   "outputs": [],
   "source": [
    "library(forecast)"
   ]
  },
  {
   "cell_type": "code",
   "execution_count": 62,
   "id": "c0490295",
   "metadata": {},
   "outputs": [
    {
     "data": {
      "text/plain": [
       "Series: rec \n",
       "ARIMA(1,1,0)(0,0,2)[12] \n",
       "\n",
       "Coefficients:\n",
       "         ar1    sma1    sma2\n",
       "      0.3843  0.0871  0.1473\n",
       "s.e.  0.0437  0.0488  0.0439\n",
       "\n",
       "sigma^2 = 94.91:  log likelihood = -1669.2\n",
       "AIC=3346.4   AICc=3346.49   BIC=3362.85"
      ]
     },
     "metadata": {},
     "output_type": "display_data"
    }
   ],
   "source": [
    "forecast::auto.arima(rec)"
   ]
  },
  {
   "cell_type": "markdown",
   "id": "d249541e",
   "metadata": {},
   "source": [
    "The second R output is by the Arima function. “Fixed “ can specify the zero-coefficients term. _diff1_rec_ is already differentiated. Thus, we do not need to assign the order of d in Arima function. \n",
    "\n",
    "Ex) Arima(1,0,24)\n",
    "The results in Arima are the same as the auto.arima result, $(1-\\phi_1 B)(rec_t-rec_{t-1}) =(1+\\Theta_1 B^{12}+\\Theta_2 B^{24} )\\epsilon_t$ \n",
    "Thus, we can say the model $(1-\\phi_1 B)(1-B)rec_t =(1+\\Theta_1 B^{12}+\\Theta_2 B^{24} )\\epsilon_t$ is well constructed. \n"
   ]
  },
  {
   "cell_type": "code",
   "execution_count": 63,
   "id": "9ed281a1",
   "metadata": {
    "scrolled": true
   },
   "outputs": [
    {
     "data": {
      "text/plain": [
       "Series: diff1_rec \n",
       "ARIMA(1,0,24) with non-zero mean \n",
       "\n",
       "Coefficients:\n",
       "         ar1  ma1  ma2  ma3  ma4  ma5  ma6  ma7  ma8  ma9  ma10  ma11    ma12\n",
       "      0.3843    0    0    0    0    0    0    0    0    0     0     0  0.0871\n",
       "s.e.  0.0437    0    0    0    0    0    0    0    0    0     0     0  0.0488\n",
       "      ma13  ma14  ma15  ma16  ma17  ma18  ma19  ma20  ma21  ma22  ma23    ma24\n",
       "         0     0     0     0     0     0     0     0     0     0     0  0.1473\n",
       "s.e.     0     0     0     0     0     0     0     0     0     0     0  0.0439\n",
       "      mean\n",
       "         0\n",
       "s.e.     0\n",
       "\n",
       "sigma^2 = 94.91:  log likelihood = -1669.2\n",
       "AIC=3346.4   AICc=3346.49   BIC=3362.85"
      ]
     },
     "metadata": {},
     "output_type": "display_data"
    },
    {
     "data": {
      "text/plain": [
       "\n",
       "\tBox-Pierce test\n",
       "\n",
       "data:  res_fit_seasonal\n",
       "X-squared = 16.088, df = 12, p-value = 0.1872\n"
      ]
     },
     "metadata": {},
     "output_type": "display_data"
    }
   ],
   "source": [
    "## compare with auto.arima(rec)\n",
    "fit_seasonal <- Arima(diff1_rec, order=c(1,0,24), fixed=c(NA\n",
    "                                                  ,0,0,0,0,0,0,0,0,0,0,0,NA\n",
    "                                                  ,0,0,0,0,0,0,0,0,0,0,0,NA\n",
    "                                                  ,0))\n",
    "fit_seasonal\n",
    "res_fit_seasonal=residuals(fit_seasonal)\n",
    "\n",
    "Box.test(res_fit_seasonal, lag = 15, type = c(\"Box-Pierce\"), fitdf =3)"
   ]
  },
  {
   "cell_type": "markdown",
   "id": "ac45d37e",
   "metadata": {},
   "source": [
    "#### Step4-2: Other possible models"
   ]
  },
  {
   "cell_type": "markdown",
   "id": "1517acec",
   "metadata": {},
   "source": [
    "Once we decide the time series data does not have seasonality, we __assume__ the data can be explained by only non-seasonal ARIMA. In this case, we can use loop to find optimal p and q by AIC, BIC, and P-value of Box-Pierce Q Test. "
   ]
  },
  {
   "cell_type": "markdown",
   "id": "539dc559",
   "metadata": {},
   "source": [
    "For Q-test, we need to define lag m\n",
    "m can be chosen between 15 and 30. Usually take $m= T/10, ln(T), \\sqrt T$, where T is sample size. \n",
    "T of rec=453,  m could be  $ln(453)=7,  \\sqrt 453=22, 453/10=45.3$ , But 7 is too small and 45.3 is too large. \n",
    "And we set up the upper limit p=5, q= 5. Thus, we deiced to use m=15 (use same m=15 For diff1_rec).\n"
   ]
  },
  {
   "cell_type": "markdown",
   "id": "18cdad00",
   "metadata": {},
   "source": [
    "__rec__ : First, we check the p-value of Box-Pierce Q test first. $(H_0:\\{\\epsilon_t\\}$is a white noise process). The marked cells have white noise process at $\\alpha$ level 0.05."
   ]
  },
  {
   "cell_type": "markdown",
   "id": "d2e7934f",
   "metadata": {},
   "source": [
    "<img src=\"pic1.jpg\" alt=\"isolated\" width=\"500\"/>"
   ]
  },
  {
   "cell_type": "markdown",
   "id": "c6115d8f",
   "metadata": {},
   "source": [
    "In  the marked cell, ARIMA(1,0,3) has the lowest AIC and ARIMA(2,0,0) has the lowest BIC. \n",
    "Thus, we will fit the ARIMA(1,0,3) and ARIMA(2,0,0) for rec."
   ]
  },
  {
   "cell_type": "markdown",
   "id": "f7ba61ab",
   "metadata": {},
   "source": [
    "<img src=\"pic2.jpg\" alt=\"isolated\" width=\"500\"/>\n",
    "<img src=\"pic3.jpg\" alt=\"isolated\" width=\"500\"/>"
   ]
  },
  {
   "cell_type": "markdown",
   "id": "8890c298",
   "metadata": {},
   "source": [
    "__diff1_rec__ : After we perform Box-Pierce Q test . ($H_0:\\{\\epsilon_t \\}$is a white noise process), we can select combinations of orders which satisfy the white noise process. The marked cells have white noise process (p-value is greater than $\\alpha$=0.05) ."
   ]
  },
  {
   "cell_type": "markdown",
   "id": "df209396",
   "metadata": {},
   "source": [
    "<img src=\"pic4.jpg\" alt=\"isolated\" width=\"500\"/>"
   ]
  },
  {
   "cell_type": "markdown",
   "id": "671436a7",
   "metadata": {},
   "source": [
    "In  the marked cell, ARIMA (1,1,4) has the lowest AIC and ARIMA (2,1,1) has the lowest BIC. \n",
    "Thus, we will fit the ARIMA(1,1,4)  and ARIMA(2,1,1) for _diff1_rec_."
   ]
  },
  {
   "cell_type": "markdown",
   "id": "e697ac4f",
   "metadata": {},
   "source": [
    "<img src=\"pic5.jpg\" alt=\"isolated\" width=\"500\"/>\n",
    "<img src=\"pic6.jpg\" alt=\"isolated\" width=\"500\"/>"
   ]
  },
  {
   "cell_type": "markdown",
   "id": "88c4beb3",
   "metadata": {},
   "source": [
    "Therefore,  the possible models are \n",
    "* Model1: $ARIMA(1,1,0)(0,0,2)_{12}$\n",
    "* Model2: $ARIMA(1,0,3)$\n",
    "* Model3: $ARIMA(2,0,0)$\n",
    "* Model4: $ARIMA(1,1,4)$\n",
    "* Model5: $ARIMA(2,1,1)$"
   ]
  },
  {
   "cell_type": "code",
   "execution_count": 64,
   "id": "b49ab358",
   "metadata": {},
   "outputs": [
    {
     "data": {
      "text/html": [
       "<table class=\"dataframe\">\n",
       "<caption>A matrix: 6 × 6 of type dbl</caption>\n",
       "<tbody>\n",
       "\t<tr><td>4306.794</td><td>3833.724</td><td>3599.712</td><td>3463.032</td><td>3392.175</td><td>3360.568</td></tr>\n",
       "\t<tr><td>3437.273</td><td>3353.097</td><td>3343.441</td><td>3330.481</td><td>3332.115</td><td>3334.026</td></tr>\n",
       "\t<tr><td>3331.019</td><td>3332.165</td><td>3334.152</td><td>3332.162</td><td>3334.016</td><td>3336.070</td></tr>\n",
       "\t<tr><td>3332.215</td><td>3334.545</td><td>3334.805</td><td>3334.111</td><td>3335.986</td><td>3336.485</td></tr>\n",
       "\t<tr><td>3333.982</td><td>3334.355</td><td>3332.659</td><td>3335.446</td><td>3338.122</td><td>3336.400</td></tr>\n",
       "\t<tr><td>3333.336</td><td>3334.842</td><td>3334.658</td><td>3337.465</td><td>3339.458</td><td>3341.436</td></tr>\n",
       "</tbody>\n",
       "</table>\n"
      ],
      "text/latex": [
       "A matrix: 6 × 6 of type dbl\n",
       "\\begin{tabular}{llllll}\n",
       "\t 4306.794 & 3833.724 & 3599.712 & 3463.032 & 3392.175 & 3360.568\\\\\n",
       "\t 3437.273 & 3353.097 & 3343.441 & 3330.481 & 3332.115 & 3334.026\\\\\n",
       "\t 3331.019 & 3332.165 & 3334.152 & 3332.162 & 3334.016 & 3336.070\\\\\n",
       "\t 3332.215 & 3334.545 & 3334.805 & 3334.111 & 3335.986 & 3336.485\\\\\n",
       "\t 3333.982 & 3334.355 & 3332.659 & 3335.446 & 3338.122 & 3336.400\\\\\n",
       "\t 3333.336 & 3334.842 & 3334.658 & 3337.465 & 3339.458 & 3341.436\\\\\n",
       "\\end{tabular}\n"
      ],
      "text/markdown": [
       "\n",
       "A matrix: 6 × 6 of type dbl\n",
       "\n",
       "| 4306.794 | 3833.724 | 3599.712 | 3463.032 | 3392.175 | 3360.568 |\n",
       "| 3437.273 | 3353.097 | 3343.441 | 3330.481 | 3332.115 | 3334.026 |\n",
       "| 3331.019 | 3332.165 | 3334.152 | 3332.162 | 3334.016 | 3336.070 |\n",
       "| 3332.215 | 3334.545 | 3334.805 | 3334.111 | 3335.986 | 3336.485 |\n",
       "| 3333.982 | 3334.355 | 3332.659 | 3335.446 | 3338.122 | 3336.400 |\n",
       "| 3333.336 | 3334.842 | 3334.658 | 3337.465 | 3339.458 | 3341.436 |\n",
       "\n"
      ],
      "text/plain": [
       "     [,1]     [,2]     [,3]     [,4]     [,5]     [,6]    \n",
       "[1,] 4306.794 3833.724 3599.712 3463.032 3392.175 3360.568\n",
       "[2,] 3437.273 3353.097 3343.441 3330.481 3332.115 3334.026\n",
       "[3,] 3331.019 3332.165 3334.152 3332.162 3334.016 3336.070\n",
       "[4,] 3332.215 3334.545 3334.805 3334.111 3335.986 3336.485\n",
       "[5,] 3333.982 3334.355 3332.659 3335.446 3338.122 3336.400\n",
       "[6,] 3333.336 3334.842 3334.658 3337.465 3339.458 3341.436"
      ]
     },
     "metadata": {},
     "output_type": "display_data"
    },
    {
     "data": {
      "text/html": [
       "<table class=\"dataframe\">\n",
       "<caption>A matrix: 6 × 6 of type dbl</caption>\n",
       "<tbody>\n",
       "\t<tr><td>4315.025</td><td>3846.072</td><td>3616.176</td><td>3483.612</td><td>3416.870</td><td>3389.380</td></tr>\n",
       "\t<tr><td>3449.621</td><td>3369.560</td><td>3364.020</td><td>3355.176</td><td>3360.926</td><td>3366.954</td></tr>\n",
       "\t<tr><td>3347.483</td><td>3352.744</td><td>3358.847</td><td>3360.973</td><td>3366.943</td><td>3373.113</td></tr>\n",
       "\t<tr><td>3352.795</td><td>3359.240</td><td>3363.616</td><td>3367.038</td><td>3373.029</td><td>3377.644</td></tr>\n",
       "\t<tr><td>3358.678</td><td>3363.166</td><td>3365.586</td><td>3372.489</td><td>3379.281</td><td>3381.675</td></tr>\n",
       "\t<tr><td>3362.147</td><td>3367.769</td><td>3371.701</td><td>3378.624</td><td>3384.732</td><td>3390.827</td></tr>\n",
       "</tbody>\n",
       "</table>\n"
      ],
      "text/latex": [
       "A matrix: 6 × 6 of type dbl\n",
       "\\begin{tabular}{llllll}\n",
       "\t 4315.025 & 3846.072 & 3616.176 & 3483.612 & 3416.870 & 3389.380\\\\\n",
       "\t 3449.621 & 3369.560 & 3364.020 & 3355.176 & 3360.926 & 3366.954\\\\\n",
       "\t 3347.483 & 3352.744 & 3358.847 & 3360.973 & 3366.943 & 3373.113\\\\\n",
       "\t 3352.795 & 3359.240 & 3363.616 & 3367.038 & 3373.029 & 3377.644\\\\\n",
       "\t 3358.678 & 3363.166 & 3365.586 & 3372.489 & 3379.281 & 3381.675\\\\\n",
       "\t 3362.147 & 3367.769 & 3371.701 & 3378.624 & 3384.732 & 3390.827\\\\\n",
       "\\end{tabular}\n"
      ],
      "text/markdown": [
       "\n",
       "A matrix: 6 × 6 of type dbl\n",
       "\n",
       "| 4315.025 | 3846.072 | 3616.176 | 3483.612 | 3416.870 | 3389.380 |\n",
       "| 3449.621 | 3369.560 | 3364.020 | 3355.176 | 3360.926 | 3366.954 |\n",
       "| 3347.483 | 3352.744 | 3358.847 | 3360.973 | 3366.943 | 3373.113 |\n",
       "| 3352.795 | 3359.240 | 3363.616 | 3367.038 | 3373.029 | 3377.644 |\n",
       "| 3358.678 | 3363.166 | 3365.586 | 3372.489 | 3379.281 | 3381.675 |\n",
       "| 3362.147 | 3367.769 | 3371.701 | 3378.624 | 3384.732 | 3390.827 |\n",
       "\n"
      ],
      "text/plain": [
       "     [,1]     [,2]     [,3]     [,4]     [,5]     [,6]    \n",
       "[1,] 4315.025 3846.072 3616.176 3483.612 3416.870 3389.380\n",
       "[2,] 3449.621 3369.560 3364.020 3355.176 3360.926 3366.954\n",
       "[3,] 3347.483 3352.744 3358.847 3360.973 3366.943 3373.113\n",
       "[4,] 3352.795 3359.240 3363.616 3367.038 3373.029 3377.644\n",
       "[5,] 3358.678 3363.166 3365.586 3372.489 3379.281 3381.675\n",
       "[6,] 3362.147 3367.769 3371.701 3378.624 3384.732 3390.827"
      ]
     },
     "metadata": {},
     "output_type": "display_data"
    },
    {
     "data": {
      "text/html": [
       "<table class=\"dataframe\">\n",
       "<caption>A matrix: 6 × 6 of type dbl</caption>\n",
       "<tbody>\n",
       "\t<tr><td>0.00000000</td><td>0.0000000000</td><td>0.000000000</td><td>0.00000000</td><td>2.131628e-14</td><td>1.089417e-05</td></tr>\n",
       "\t<tr><td>0.00000000</td><td>0.0000738378</td><td>0.003858304</td><td>0.16806911</td><td>1.248107e-01</td><td>9.285075e-02</td></tr>\n",
       "\t<tr><td>0.11735529</td><td>0.0709700381</td><td>0.048492922</td><td>0.12236129</td><td>9.175992e-02</td><td>5.785173e-02</td></tr>\n",
       "\t<tr><td>0.07215734</td><td>0.0697344581</td><td>0.045418536</td><td>0.09094543</td><td>6.187017e-02</td><td>4.544531e-02</td></tr>\n",
       "\t<tr><td>0.04758486</td><td>0.0455046897</td><td>0.068116394</td><td>0.06540505</td><td>3.752144e-02</td><td>2.703056e-02</td></tr>\n",
       "\t<tr><td>0.05963451</td><td>0.0514970422</td><td>0.042573312</td><td>0.03868518</td><td>2.174398e-02</td><td>1.069304e-02</td></tr>\n",
       "</tbody>\n",
       "</table>\n"
      ],
      "text/latex": [
       "A matrix: 6 × 6 of type dbl\n",
       "\\begin{tabular}{llllll}\n",
       "\t 0.00000000 & 0.0000000000 & 0.000000000 & 0.00000000 & 2.131628e-14 & 1.089417e-05\\\\\n",
       "\t 0.00000000 & 0.0000738378 & 0.003858304 & 0.16806911 & 1.248107e-01 & 9.285075e-02\\\\\n",
       "\t 0.11735529 & 0.0709700381 & 0.048492922 & 0.12236129 & 9.175992e-02 & 5.785173e-02\\\\\n",
       "\t 0.07215734 & 0.0697344581 & 0.045418536 & 0.09094543 & 6.187017e-02 & 4.544531e-02\\\\\n",
       "\t 0.04758486 & 0.0455046897 & 0.068116394 & 0.06540505 & 3.752144e-02 & 2.703056e-02\\\\\n",
       "\t 0.05963451 & 0.0514970422 & 0.042573312 & 0.03868518 & 2.174398e-02 & 1.069304e-02\\\\\n",
       "\\end{tabular}\n"
      ],
      "text/markdown": [
       "\n",
       "A matrix: 6 × 6 of type dbl\n",
       "\n",
       "| 0.00000000 | 0.0000000000 | 0.000000000 | 0.00000000 | 2.131628e-14 | 1.089417e-05 |\n",
       "| 0.00000000 | 0.0000738378 | 0.003858304 | 0.16806911 | 1.248107e-01 | 9.285075e-02 |\n",
       "| 0.11735529 | 0.0709700381 | 0.048492922 | 0.12236129 | 9.175992e-02 | 5.785173e-02 |\n",
       "| 0.07215734 | 0.0697344581 | 0.045418536 | 0.09094543 | 6.187017e-02 | 4.544531e-02 |\n",
       "| 0.04758486 | 0.0455046897 | 0.068116394 | 0.06540505 | 3.752144e-02 | 2.703056e-02 |\n",
       "| 0.05963451 | 0.0514970422 | 0.042573312 | 0.03868518 | 2.174398e-02 | 1.069304e-02 |\n",
       "\n"
      ],
      "text/plain": [
       "     [,1]       [,2]         [,3]        [,4]       [,5]         [,6]        \n",
       "[1,] 0.00000000 0.0000000000 0.000000000 0.00000000 2.131628e-14 1.089417e-05\n",
       "[2,] 0.00000000 0.0000738378 0.003858304 0.16806911 1.248107e-01 9.285075e-02\n",
       "[3,] 0.11735529 0.0709700381 0.048492922 0.12236129 9.175992e-02 5.785173e-02\n",
       "[4,] 0.07215734 0.0697344581 0.045418536 0.09094543 6.187017e-02 4.544531e-02\n",
       "[5,] 0.04758486 0.0455046897 0.068116394 0.06540505 3.752144e-02 2.703056e-02\n",
       "[6,] 0.05963451 0.0514970422 0.042573312 0.03868518 2.174398e-02 1.069304e-02"
      ]
     },
     "metadata": {},
     "output_type": "display_data"
    }
   ],
   "source": [
    "#Step4-method2: Decide order of ARIMA\n",
    "AIC1<-matrix(0,6,6)\n",
    "BIC1<-matrix(0,6,6)\n",
    "Pvalue1<-matrix(0,6,6)\n",
    "\n",
    "for (p in 0:5) {\n",
    "  for (q in 0:5) {\n",
    "    model<- Arima(rec, order=c(p,0,q))\n",
    "    res=residuals(model)\n",
    "    test=Box.test(res, lag = 15, type = c(\"Box-Pierce\"), fitdf =p+q)\n",
    "    p.value=test$p.value\n",
    "    \n",
    "    AIC1[p+1,q+1] <- AIC(model)\n",
    "    BIC1[p+1,q+1] <- BIC(model)\n",
    "    Pvalue1[p+1,q+1] <- p.value\n",
    "  }\n",
    "}\n",
    "\n",
    "AIC1\n",
    "BIC1\n",
    "Pvalue1"
   ]
  },
  {
   "cell_type": "code",
   "execution_count": 65,
   "id": "250afb43",
   "metadata": {},
   "outputs": [
    {
     "data": {
      "text/html": [
       "<table class=\"dataframe\">\n",
       "<caption>A matrix: 6 × 6 of type dbl</caption>\n",
       "<tbody>\n",
       "\t<tr><td>3442.872</td><td>3369.121</td><td>3365.260</td><td>3362.743</td><td>3361.268</td><td>3356.614</td></tr>\n",
       "\t<tr><td>3363.206</td><td>3364.178</td><td>3365.883</td><td>3363.603</td><td>3326.381</td><td>3327.948</td></tr>\n",
       "\t<tr><td>3363.896</td><td>3326.790</td><td>3327.782</td><td>3359.021</td><td>3327.994</td><td>3329.865</td></tr>\n",
       "\t<tr><td>3363.707</td><td>3327.854</td><td>3330.330</td><td>3360.764</td><td>3329.979</td><td>3331.866</td></tr>\n",
       "\t<tr><td>3354.635</td><td>3329.542</td><td>3329.905</td><td>3328.334</td><td>3331.160</td><td>3333.152</td></tr>\n",
       "\t<tr><td>3356.372</td><td>3329.114</td><td>3330.590</td><td>3330.641</td><td>3333.170</td><td>3334.956</td></tr>\n",
       "</tbody>\n",
       "</table>\n"
      ],
      "text/latex": [
       "A matrix: 6 × 6 of type dbl\n",
       "\\begin{tabular}{llllll}\n",
       "\t 3442.872 & 3369.121 & 3365.260 & 3362.743 & 3361.268 & 3356.614\\\\\n",
       "\t 3363.206 & 3364.178 & 3365.883 & 3363.603 & 3326.381 & 3327.948\\\\\n",
       "\t 3363.896 & 3326.790 & 3327.782 & 3359.021 & 3327.994 & 3329.865\\\\\n",
       "\t 3363.707 & 3327.854 & 3330.330 & 3360.764 & 3329.979 & 3331.866\\\\\n",
       "\t 3354.635 & 3329.542 & 3329.905 & 3328.334 & 3331.160 & 3333.152\\\\\n",
       "\t 3356.372 & 3329.114 & 3330.590 & 3330.641 & 3333.170 & 3334.956\\\\\n",
       "\\end{tabular}\n"
      ],
      "text/markdown": [
       "\n",
       "A matrix: 6 × 6 of type dbl\n",
       "\n",
       "| 3442.872 | 3369.121 | 3365.260 | 3362.743 | 3361.268 | 3356.614 |\n",
       "| 3363.206 | 3364.178 | 3365.883 | 3363.603 | 3326.381 | 3327.948 |\n",
       "| 3363.896 | 3326.790 | 3327.782 | 3359.021 | 3327.994 | 3329.865 |\n",
       "| 3363.707 | 3327.854 | 3330.330 | 3360.764 | 3329.979 | 3331.866 |\n",
       "| 3354.635 | 3329.542 | 3329.905 | 3328.334 | 3331.160 | 3333.152 |\n",
       "| 3356.372 | 3329.114 | 3330.590 | 3330.641 | 3333.170 | 3334.956 |\n",
       "\n"
      ],
      "text/plain": [
       "     [,1]     [,2]     [,3]     [,4]     [,5]     [,6]    \n",
       "[1,] 3442.872 3369.121 3365.260 3362.743 3361.268 3356.614\n",
       "[2,] 3363.206 3364.178 3365.883 3363.603 3326.381 3327.948\n",
       "[3,] 3363.896 3326.790 3327.782 3359.021 3327.994 3329.865\n",
       "[4,] 3363.707 3327.854 3330.330 3360.764 3329.979 3331.866\n",
       "[5,] 3354.635 3329.542 3329.905 3328.334 3331.160 3333.152\n",
       "[6,] 3356.372 3329.114 3330.590 3330.641 3333.170 3334.956"
      ]
     },
     "metadata": {},
     "output_type": "display_data"
    },
    {
     "data": {
      "text/html": [
       "<table class=\"dataframe\">\n",
       "<caption>A matrix: 6 × 6 of type dbl</caption>\n",
       "<tbody>\n",
       "\t<tr><td>3451.099</td><td>3381.462</td><td>3381.715</td><td>3383.311</td><td>3385.950</td><td>3385.410</td></tr>\n",
       "\t<tr><td>3375.547</td><td>3380.632</td><td>3386.451</td><td>3388.285</td><td>3355.176</td><td>3360.857</td></tr>\n",
       "\t<tr><td>3380.351</td><td>3347.359</td><td>3352.464</td><td>3387.817</td><td>3360.903</td><td>3366.888</td></tr>\n",
       "\t<tr><td>3384.275</td><td>3352.536</td><td>3359.126</td><td>3393.673</td><td>3367.002</td><td>3373.003</td></tr>\n",
       "\t<tr><td>3379.317</td><td>3358.338</td><td>3362.814</td><td>3365.357</td><td>3372.297</td><td>3378.402</td></tr>\n",
       "\t<tr><td>3385.168</td><td>3362.023</td><td>3367.613</td><td>3371.778</td><td>3378.420</td><td>3384.320</td></tr>\n",
       "</tbody>\n",
       "</table>\n"
      ],
      "text/latex": [
       "A matrix: 6 × 6 of type dbl\n",
       "\\begin{tabular}{llllll}\n",
       "\t 3451.099 & 3381.462 & 3381.715 & 3383.311 & 3385.950 & 3385.410\\\\\n",
       "\t 3375.547 & 3380.632 & 3386.451 & 3388.285 & 3355.176 & 3360.857\\\\\n",
       "\t 3380.351 & 3347.359 & 3352.464 & 3387.817 & 3360.903 & 3366.888\\\\\n",
       "\t 3384.275 & 3352.536 & 3359.126 & 3393.673 & 3367.002 & 3373.003\\\\\n",
       "\t 3379.317 & 3358.338 & 3362.814 & 3365.357 & 3372.297 & 3378.402\\\\\n",
       "\t 3385.168 & 3362.023 & 3367.613 & 3371.778 & 3378.420 & 3384.320\\\\\n",
       "\\end{tabular}\n"
      ],
      "text/markdown": [
       "\n",
       "A matrix: 6 × 6 of type dbl\n",
       "\n",
       "| 3451.099 | 3381.462 | 3381.715 | 3383.311 | 3385.950 | 3385.410 |\n",
       "| 3375.547 | 3380.632 | 3386.451 | 3388.285 | 3355.176 | 3360.857 |\n",
       "| 3380.351 | 3347.359 | 3352.464 | 3387.817 | 3360.903 | 3366.888 |\n",
       "| 3384.275 | 3352.536 | 3359.126 | 3393.673 | 3367.002 | 3373.003 |\n",
       "| 3379.317 | 3358.338 | 3362.814 | 3365.357 | 3372.297 | 3378.402 |\n",
       "| 3385.168 | 3362.023 | 3367.613 | 3371.778 | 3378.420 | 3384.320 |\n",
       "\n"
      ],
      "text/plain": [
       "     [,1]     [,2]     [,3]     [,4]     [,5]     [,6]    \n",
       "[1,] 3451.099 3381.462 3381.715 3383.311 3385.950 3385.410\n",
       "[2,] 3375.547 3380.632 3386.451 3388.285 3355.176 3360.857\n",
       "[3,] 3380.351 3347.359 3352.464 3387.817 3360.903 3366.888\n",
       "[4,] 3384.275 3352.536 3359.126 3393.673 3367.002 3373.003\n",
       "[5,] 3379.317 3358.338 3362.814 3365.357 3372.297 3378.402\n",
       "[6,] 3385.168 3362.023 3367.613 3371.778 3378.420 3384.320"
      ]
     },
     "metadata": {},
     "output_type": "display_data"
    },
    {
     "data": {
      "text/html": [
       "<table class=\"dataframe\">\n",
       "<caption>A matrix: 6 × 6 of type dbl</caption>\n",
       "<tbody>\n",
       "\t<tr><td>0.0000000000</td><td>2.242423e-05</td><td>0.0003534628</td><td>0.002011979</td><td>0.002388307</td><td>0.01215952</td></tr>\n",
       "\t<tr><td>0.0005761913</td><td>6.950956e-04</td><td>0.0004429362</td><td>0.001523984</td><td>0.118761224</td><td>0.08538562</td></tr>\n",
       "\t<tr><td>0.0008557478</td><td>8.730676e-02</td><td>0.0508837550</td><td>0.011042299</td><td>0.082875295</td><td>0.05929734</td></tr>\n",
       "\t<tr><td>0.0012387064</td><td>5.179058e-02</td><td>0.0477977649</td><td>0.005552357</td><td>0.057557344</td><td>0.03634853</td></tr>\n",
       "\t<tr><td>0.0236535243</td><td>3.335378e-02</td><td>0.0313977444</td><td>0.045443879</td><td>0.041129665</td><td>0.02272413</td></tr>\n",
       "\t<tr><td>0.0118678329</td><td>3.673291e-02</td><td>0.0309710625</td><td>0.028317944</td><td>0.022589018</td><td>0.01190298</td></tr>\n",
       "</tbody>\n",
       "</table>\n"
      ],
      "text/latex": [
       "A matrix: 6 × 6 of type dbl\n",
       "\\begin{tabular}{llllll}\n",
       "\t 0.0000000000 & 2.242423e-05 & 0.0003534628 & 0.002011979 & 0.002388307 & 0.01215952\\\\\n",
       "\t 0.0005761913 & 6.950956e-04 & 0.0004429362 & 0.001523984 & 0.118761224 & 0.08538562\\\\\n",
       "\t 0.0008557478 & 8.730676e-02 & 0.0508837550 & 0.011042299 & 0.082875295 & 0.05929734\\\\\n",
       "\t 0.0012387064 & 5.179058e-02 & 0.0477977649 & 0.005552357 & 0.057557344 & 0.03634853\\\\\n",
       "\t 0.0236535243 & 3.335378e-02 & 0.0313977444 & 0.045443879 & 0.041129665 & 0.02272413\\\\\n",
       "\t 0.0118678329 & 3.673291e-02 & 0.0309710625 & 0.028317944 & 0.022589018 & 0.01190298\\\\\n",
       "\\end{tabular}\n"
      ],
      "text/markdown": [
       "\n",
       "A matrix: 6 × 6 of type dbl\n",
       "\n",
       "| 0.0000000000 | 2.242423e-05 | 0.0003534628 | 0.002011979 | 0.002388307 | 0.01215952 |\n",
       "| 0.0005761913 | 6.950956e-04 | 0.0004429362 | 0.001523984 | 0.118761224 | 0.08538562 |\n",
       "| 0.0008557478 | 8.730676e-02 | 0.0508837550 | 0.011042299 | 0.082875295 | 0.05929734 |\n",
       "| 0.0012387064 | 5.179058e-02 | 0.0477977649 | 0.005552357 | 0.057557344 | 0.03634853 |\n",
       "| 0.0236535243 | 3.335378e-02 | 0.0313977444 | 0.045443879 | 0.041129665 | 0.02272413 |\n",
       "| 0.0118678329 | 3.673291e-02 | 0.0309710625 | 0.028317944 | 0.022589018 | 0.01190298 |\n",
       "\n"
      ],
      "text/plain": [
       "     [,1]         [,2]         [,3]         [,4]        [,5]        [,6]      \n",
       "[1,] 0.0000000000 2.242423e-05 0.0003534628 0.002011979 0.002388307 0.01215952\n",
       "[2,] 0.0005761913 6.950956e-04 0.0004429362 0.001523984 0.118761224 0.08538562\n",
       "[3,] 0.0008557478 8.730676e-02 0.0508837550 0.011042299 0.082875295 0.05929734\n",
       "[4,] 0.0012387064 5.179058e-02 0.0477977649 0.005552357 0.057557344 0.03634853\n",
       "[5,] 0.0236535243 3.335378e-02 0.0313977444 0.045443879 0.041129665 0.02272413\n",
       "[6,] 0.0118678329 3.673291e-02 0.0309710625 0.028317944 0.022589018 0.01190298"
      ]
     },
     "metadata": {},
     "output_type": "display_data"
    }
   ],
   "source": [
    "AIC2<-matrix(0,6,6)\n",
    "BIC2<-matrix(0,6,6)\n",
    "Pvalue2<-matrix(0,6,6)\n",
    "\n",
    "for (p in 0:5) {\n",
    "  for (q in 0:5) {\n",
    "    model<- Arima(diff1_rec, order=c(p,0,q))\n",
    "    res=residuals(model)\n",
    "    test=Box.test(res, lag = 15, type = c(\"Box-Pierce\"), fitdf =p+q)\n",
    "    p.value=test$p.value\n",
    "    \n",
    "    AIC2[p+1,q+1] <- AIC(model)\n",
    "    BIC2[p+1,q+1] <- BIC(model)\n",
    "    Pvalue2[p+1,q+1] <- p.value\n",
    "    }\n",
    "}\n",
    "\n",
    "AIC2\n",
    "BIC2\n",
    "Pvalue2"
   ]
  },
  {
   "cell_type": "markdown",
   "id": "25b394c0",
   "metadata": {},
   "source": [
    "#### Step5: Check the model ACF of Models’ residual"
   ]
  },
  {
   "cell_type": "markdown",
   "id": "f06bb344",
   "metadata": {},
   "source": [
    "Our all possible five function has similar ACF, BIC. We see that $\\epsilon_t$ is white noise, which means $cov(\\epsilon_t,\\epsilon_{t-k})=0$ with k>0.  However, when we draw graphs of ACF of model’s residual, The model1's acf  is less deviated from the confidence interval than other models. \n",
    "Thus, I will choose the Model5, and the estimated model is\n",
    "(1-0.3843B)(1-B) (〖rec〗_t ) ̂=(1+0.0871B^12+0.1473B^24 ) ɛ ̂_t\n"
   ]
  },
  {
   "cell_type": "code",
   "execution_count": 68,
   "id": "b1eb4e67",
   "metadata": {},
   "outputs": [
    {
     "data": {
      "image/png": "[encoded data removed]",
      "text/plain": [
       "Plot with title \"ACF of Model5 residual\""
      ]
     },
     "metadata": {
      "image/png": {
       "height": 420,
       "width": 600
      }
     },
     "output_type": "display_data"
    }
   ],
   "source": [
    "fit1 <- Arima(rec, order=c(1,1,0), seasonal=c(0,0,2))\n",
    "fit2 <- Arima(rec, order=c(1,0,3))\n",
    "fit3 <- Arima(rec, order=c(2,0,0))\n",
    "fit4 <- Arima(rec, order=c(1,1,4))\n",
    "fit5 <- Arima(rec, order=c(2,1,1))\n",
    "\n",
    "\n",
    "res1 <-residuals(fit1)\n",
    "res2 <-residuals(fit2)\n",
    "res3 <-residuals(fit3)\n",
    "res4 <-residuals(fit4)\n",
    "res5 <-residuals(fit5)\n",
    "\n",
    "options(repr.plot.width=10, repr.plot.height=7)\n",
    "par(mfrow=c(2,3))\n",
    "acf(res1, main=\"ACF of Model1 residual\")\n",
    "acf(res2, main=\"ACF of Model2 residual\")\n",
    "acf(res3, main=\"ACF of Model3 residual\")\n",
    "acf(res4, main=\"ACF of Model4 residual\")\n",
    "acf(res5, main=\"ACF of Model5 residual\")"
   ]
  }
 ],
 "metadata": {
  "kernelspec": {
   "display_name": "R",
   "language": "R",
   "name": "ir"
  },
  "language_info": {
   "codemirror_mode": "r",
   "file_extension": ".r",
   "mimetype": "text/x-r-source",
   "name": "R",
   "pygments_lexer": "r",
   "version": "4.1.3"
  }
 },
 "nbformat": 4,
 "nbformat_minor": 5
}
